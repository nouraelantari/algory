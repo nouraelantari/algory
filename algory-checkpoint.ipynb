{
 "cells": [
  {
   "cell_type": "markdown",
   "id": "fec4ae5a",
   "metadata": {},
   "source": [
    "# QUESTION 1"
   ]
  },
  {
   "cell_type": "code",
   "execution_count": 9,
   "id": "931a7402",
   "metadata": {},
   "outputs": [
    {
     "data": {
      "text/plain": [
       "True"
      ]
     },
     "execution_count": 9,
     "metadata": {},
     "output_type": "execute_result"
    }
   ],
   "source": [
    "def binary_search(l,i,h,v):\n",
    "    if h>=i:\n",
    "        m=(h+i)//2\n",
    "        if l[m]==v:\n",
    "            return True\n",
    "        elif l[m]>v:\n",
    "            return binary_search(l,i,m-1,v)\n",
    "        else:\n",
    "            return binary_search(l,m+1,h,v)\n",
    "    else:\n",
    "        return False \n",
    "l=[1,2,3,5,8]\n",
    "v=5 ; i=0 ; h=len(l)-1\n",
    "binary_search(l,i,h,v)"
   ]
  },
  {
   "cell_type": "markdown",
   "id": "23b5e57c",
   "metadata": {},
   "source": [
    "# QUESTION 2"
   ]
  },
  {
   "cell_type": "code",
   "execution_count": 12,
   "id": "5f8308d1",
   "metadata": {},
   "outputs": [
    {
     "data": {
      "text/plain": [
       "81"
      ]
     },
     "execution_count": 12,
     "metadata": {},
     "output_type": "execute_result"
    }
   ],
   "source": [
    "def calcule(a,b):\n",
    "    return pow(a,b)\n",
    "a=3 ; b=4\n",
    "calcule(a,b)"
   ]
  },
  {
   "cell_type": "markdown",
   "id": "8ca78943",
   "metadata": {},
   "source": [
    "# QUESTION 3"
   ]
  },
  {
   "cell_type": "code",
   "execution_count": 15,
   "id": "b3a53939",
   "metadata": {},
   "outputs": [
    {
     "data": {
      "text/plain": [
       "[13, 22, 29, 37, 46, 49, 52, 56, 71]"
      ]
     },
     "execution_count": 15,
     "metadata": {},
     "output_type": "execute_result"
    }
   ],
   "source": [
    "def bubble_sort(l):\n",
    "    for i in range(len(l)-1,0,-1):\n",
    "        for j in range(i):\n",
    "            if l[j]>l[j+1]:\n",
    "                temp=l[j]\n",
    "                l[j]=l[j+1]\n",
    "                l[j+1]=temp\n",
    "    return l \n",
    "l=[29,13,22,37,52,49,46,71,56]\n",
    "bubble_sort(l)"
   ]
  },
  {
   "cell_type": "markdown",
   "id": "d78d5b96",
   "metadata": {},
   "source": [
    "# QUESTION 3"
   ]
  },
  {
   "cell_type": "code",
   "execution_count": 16,
   "id": "ae5d72cc",
   "metadata": {},
   "outputs": [
    {
     "data": {
      "text/plain": [
       "[13, 22, 29, 37, 46, 49, 52, 56, 71]"
      ]
     },
     "execution_count": 16,
     "metadata": {},
     "output_type": "execute_result"
    }
   ],
   "source": [
    "def merge_Sort(l):\n",
    "    if len(l) > 1:\n",
    "        m = len(l) // 2\n",
    "        left = l[:m]\n",
    "        right = l[m:]\n",
    "\n",
    "        merge_Sort(left)\n",
    "        merge_Sort(right)\n",
    "\n",
    "        i = 0\n",
    "        j = 0\n",
    "        k = 0\n",
    "        \n",
    "        while i < len(left) and j < len(right):\n",
    "            if left[i] < right[j]:\n",
    "                l[k] = left[i]\n",
    "                i = i+1\n",
    "            else:\n",
    "                l[k] = right[j]\n",
    "                j = j+1\n",
    "            k = k+1\n",
    "\n",
    "        while i < len(left):\n",
    "            l[k] = left[i]\n",
    "            i = i+1\n",
    "            k = k+1\n",
    "\n",
    "        while j < len(right):\n",
    "            l[k]=right[j]\n",
    "            j = j+1\n",
    "            k = k+1\n",
    "\n",
    "l = [29,13,22,37,52,49,46,71,56]\n",
    "merge_Sort(l)\n",
    "l"
   ]
  },
  {
   "cell_type": "markdown",
   "id": "f4f48f31",
   "metadata": {},
   "source": [
    "# Question 4"
   ]
  },
  {
   "cell_type": "code",
   "execution_count": 17,
   "id": "a55e6e23",
   "metadata": {},
   "outputs": [
    {
     "name": "stdout",
     "output_type": "stream",
     "text": [
      "[13, 22, 29, 37, 46, 49, 52, 56, 71]\n"
     ]
    }
   ],
   "source": [
    "def partition(l, start, end):\n",
    "    pivot = l[start]\n",
    "    low = start + 1\n",
    "    high = end\n",
    "    while True:\n",
    "        while low <= high and l[high] >= pivot:\n",
    "            high = high - 1\n",
    "            \n",
    "        while low <= high and l[low] <= pivot:\n",
    "            low = low + 1\n",
    "\n",
    "        if low <= high:\n",
    "            l[low], l[high] = l[high], l[low]\n",
    "        else:\n",
    "            break\n",
    "\n",
    "    l[start], l[high] = l[high], l[start]\n",
    "\n",
    "    return high\n",
    "\n",
    "def quick_sort(l, start, end):\n",
    "    if start <= end:\n",
    "        p = partition(l, start, end)\n",
    "        quick_sort(l, start, p-1)\n",
    "        quick_sort(l, p+1, end)\n",
    "        \n",
    "\n",
    "l =  [29,13,22,37,52,49,46,71,56]\n",
    "quick_sort(l, 0, len(l) - 1)\n",
    "print(l)"
   ]
  }
 ],
 "metadata": {
  "kernelspec": {
   "display_name": "Python 3 (ipykernel)",
   "language": "python",
   "name": "python3"
  },
  "language_info": {
   "codemirror_mode": {
    "name": "ipython",
    "version": 3
   },
   "file_extension": ".py",
   "mimetype": "text/x-python",
   "name": "python",
   "nbconvert_exporter": "python",
   "pygments_lexer": "ipython3",
   "version": "3.9.7"
  }
 },
 "nbformat": 4,
 "nbformat_minor": 5
}
